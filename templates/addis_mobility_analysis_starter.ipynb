{
  "cells": [
    {
      "cell_type": "markdown",
      "source": [
        "# 🚌 Addis Ababa Mobility Analyzer\n",
        "\n",
        "Welcome to the **Ethiopian Data Science & AI Community** starter project!\n",
        "\n",
        "In this notebook, you'll explore the **road network of Addis Ababa** using real OpenStreetMap data. You’ll learn how to:\n",
        "- Download and visualize the city's transport network\n",
        "- Analyze connectivity and central routes\n",
        "- Identify potential congestion points\n",
        "\n",
        "🎯 Goal: Understand urban mobility to support smarter transportation planning in Ethiopia.\n",
        "\n",
        "🔧 Tools: OSMnx, NetworkX, Matplotlib"
      ],
      "metadata": {
        "colab_type": "text"
      }
    },
    {
      "cell_type": "code",
      "execution_count": null,
      "metadata": {
        "id": "install_deps",
        "colab": {
          "base_uri": "https://localhost:8080/"
        }
      },
      "outputs": [],
      "source": [
        "# Step 1: Install required libraries\n",
        "!pip install -q osmnx networkx matplotlib"
      ]
    },
    {
      "cell_type": "code",
      "execution_count": null,
      "metadata": {
        "id": "imports"
      },
      "outputs": [],
      "source": [
        "# Step 2: Import libraries\n",
        "import osmnx as ox\n",
        "import matplotlib.pyplot as plt\n",
        "import networkx as nx\n",
        "import pandas as pd\n",
        "\n",
        "# Set OSMnx settings\n",
        "ox.config(log_console=True, use_cache=True)"
      ]
    },
    {
      "cell_type": "markdown",
      "source": [
        "## Step 3: Download Road Network for Addis Ababa"
      ],
      "metadata": {
        "colab_type": "text"
      }
    },
    {
      "cell_type": "code",
      "execution_count": null,
      "metadata": {
        "colab": {
          "base_uri": "https://localhost:8080/"
        },
        "id": "download_network",
        "outputId": "e3b3e3c7-9c7f-4e5a-fa7a-5d4c4b4d8a6f"
      },
      "outputs": [],
      "source": [
        "# Define the place\n",
        "place_name = \"Addis Ababa, Ethiopia\"\n",
        "\n",
        "# Download the road network\n",
        "G = ox.graph_from_place(place_name, network_type=\"drive\")\n",
        "\n",
        "print(f\"Downloaded road network for: {place_name}\")\n",
        "print(f\"Number of nodes: {len(G.nodes)}\")\n",
        "print(f\"Number of edges: {len(G.edges)}\")"
      ]
    },
    {
      "cell_type": "markdown",
      "source": [
        "## Step 4: Visualize the Road Network"
      ],
      "metadata": {
        "colab_type": "text"
      }
    },
    {
      "cell_type": "code",
      "execution_count": null,
      "metadata": {
        "colab": {
          "base_uri": "https://localhost:8080/",
          "height": 595
        },
        "id": "plot_network",
        "outputId": "2f8e7e5f-5987-4663-8766-364483693e15"
      },
      "outputs": [],
      "source": [
        "# Plot the full network\n",
        "plt.figure(figsize=(12, 8))\n",
        "ox.plot_graph(G, node_size=5, node_color=\"r\", edge_color=\"gray\", edge_linewidth=0.5, bgcolor=\"white\")\n",
        "plt.title(\"Road Network of Addis Ababa\", fontsize=16)\n",
        "plt.tight_layout()\n",
        "plt.show()"
      ]
    },
    {
      "cell_type": "markdown",
      "source": [
        "## Step 5: Analyze Network Properties"
      ],
      "metadata": {
        "colab_type": "text"
      }
    },
    {
      "cell_type": "code",
      "execution_count": null,
      "metadata": {
        "colab": {
          "base_uri": "https://localhost:8080/"
        },
        "id": "network_stats",
        "outputId": "d2c32e07-0491-409d-9118-987219546473"
      },
      "outputs": [],
      "source": [
        "# Basic network statistics\n",
        "stats = ox.basic_stats(G)\n",
        "extended_stats = nx.degree_centrality(G)\n",
        "\n",
        "print(\"Basic Network Statistics:\")\n",
        "for key, value in stats.items():\n",
        "    if key in ['n', 'm', 'density', 'avg_node_degree', 'avg_street_length', 'street_length_total']:\n",
        "        print(f\"{key}: {value:.4f}\" if isinstance(value, float) else f\"{key}: {value}\")"
      ]
    },
    {
      "cell_type": "markdown",
      "source": [
        "## Step 6: Find Most Central Roads (Using Betweenness Centrality)"
      ],
      "metadata": {
        "colab_type": "text"
      }
    },
    {
      "cell_type": "code",
      "execution_count": null,
      "metadata": {
        "colab": {
          "base_uri": "https://localhost:8080/",
          "height": 595
        },
        "id": "centrality",
        "outputId": "8d66d3e6-550b-4954-b1e7-9486789c799e"
      },
      "outputs": [],
      "source": [
        "# Compute betweenness centrality (measures how often a road is on shortest path)\n",
        "bc = nx.betweenness_centrality(G, weight=\"length\")\n",
        "\n",
        "# Add to graph as node attribute\n",
        "for node, bc_val in bc.items():\n",
        "    if node in G.nodes:\n",
        "        G.nodes[node][\"betweenness\"] = bc_val\n",
        "\n",
        "# Normalize for color scaling\n",
        "max_bc = max(bc.values())\n",
        "node_colors = [bc.get(node, 0) / max_bc for node in G.nodes]\n",
        "\n",
        "# Plot with centrality-based coloring\n",
        "plt.figure(figsize=(12, 8))\n",
        "nc = ox.plot_graph_route(\n",
        "    G, [],\n",
        "    node_color=node_colors,\n",
        "    node_size=30,\n",
        "    node_cmap=plt.cm.viridis,\n",
        "    edge_color=\"gray\",\n",
        "    edge_linewidth=0.5,\n",
        "    bgcolor=\"white\"\n",
        ")\n",
        "plt.title(\"Road Centrality in Addis Ababa (Hotspots = Potential Congestion)\", fontsize=14)\n",
        "plt.tight_layout()\n",
        "plt.show()"
      ]
    },
    {
      "cell_type": "markdown",
      "source": [
        "## Step 7: Find Shortest Path Between Two Locations"
      ],
      "metadata": {
        "colab_type": "text"
      }
    },
    {
      "cell_type": "code",
      "execution_count": null,
      "metadata": {
        "colab": {
          "base_uri": "https://localhost:8080/",
          "height": 595
        },
        "id": "shortest_path",
        "outputId": "78722393-6207-4557-8235-484710d39174"
      },
      "outputs": [],
      "source": [
        "# Define two points: Addis Ababa University (Main Campus) and Bole Airport\n",
        "origin_point = (9.0098, 38.7680)  # AAU\n",
        "destination_point = (8.9761, 38.7976)  # Bole International Airport\n",
        "\n",
        "# Find nearest nodes\n",
        "origin_node = ox.distance.nearest_nodes(G, origin_point[1], origin_point[0])\n",
        "dest_node = ox.distance.nearest_nodes(G, destination_point[1], destination_point[0])\n",
        "\n",
        "# Compute shortest path\n",
        "route = nx.shortest_path(G, origin_node, dest_node, weight=\"length\")\n",
        "\n",
        "# Plot route\n",
        "fig, ax = ox.plot_graph_route(\n",
        "    G, route,\n",
        "    route_color=\"r\",\n",
        "    route_linewidth=6,\n",
        "    node_size=0,\n",
        "    bgcolor=\"white\",\n",
        "    figsize=(12, 8)\n",
        ")\n",
        "plt.title(\"Shortest Driving Route: AAU to Bole Airport\", fontsize=16)\n",
        "plt.show()"
      ]
    },
    {
      "cell_type": "markdown",
      "source": [
        "## Step 8: Extract Road Data for Further Analysis"
      ],
      "metadata": {
        "colab_type": "text"
      }
    },
    {
      "cell_type": "code",
      "execution_count": null,
      "metadata": {
        "colab": {
          "base_uri": "https://localhost:8080/"
        },
        "id": "extract_edges",
        "outputId": "1b9e8642-8578-4731-ba97-841339c43894"
      },
      "outputs": [],
      "source": [
        "# Convert graph to GeoDataFrame (edges)\n",
        "gdf_edges = ox.graph_to_gdfs(G, nodes=False, edges=True)\n",
        "\n",
        "print(\"First 5 road segments:\")\n",
        "print(gdf_edges[[\"name\", \"highway\", \"length\"]].head())\n",
        "\n",
        "# Save sample to CSV (optional)\n",
        "gdf_edges[[\"name\", \"highway\", \"length\", \"geometry\"]].to_file(\"addis_roads_sample.geojson\", driver=\"GeoJSON\")\n",
        "print(\"\\n👉 Road data saved to 'addis_roads_sample.geojson'\")"
      ]
    },
    {
      "cell_type": "markdown",
      "source": [
        "## ✅ Next Steps & Challenges\n",
        "\n",
        "🔹 **Add real traffic data** (e.g., from GPS, Google Maps, or city surveys)\n",
        "🔹 **Model peak-hour congestion**\n",
        "🔹 **Suggest public transit routes** based on connectivity\n",
        "🔹 **Include walking or biking networks**\n",
        "🔹 **Translate insights into Amharic** for local planners\n",
        "🔹 **Contribute your analysis** to the community dataset repo!\n",
        "\n",
        "📌 Join the [Ethiopian Data Science & AI Community](https://www.linkedin.com/groups/11836061/) to share your findings and collaborate with others!\n",
        "\n",
        "Let’s build smarter cities — one route at a time. 🇪🇹"
      ],
      "metadata": {
        "colab_type": "text"
      }
    }
  ],
  "metadata": {
    "colab": {
      "provenance": [],
      "collapsed_sections": []
    },
    "kernelspec": {
      "name": "python3",
      "display_name": "Python 3"
    }
  },
  "nbformat": 4,
  "nbformat_minor": 0

}
