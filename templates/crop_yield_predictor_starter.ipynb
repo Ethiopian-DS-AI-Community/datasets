{
  "cells": [
    {
      "cell_type": "markdown",
      "source": [
        "# 🌾 Ethiopian Crop Yield Prediction\n",
        "\n",
        "Welcome to the **Ethiopian Data Science & AI Community** starter project!\n",
        "\n",
        "In this notebook, you'll build a simple **crop yield prediction model** using climate and soil data — a first step toward data-driven agriculture in Ethiopia.\n",
        "\n",
        "🎯 Goal: Predict crop yield (kg/ha) based on environmental and farming factors.\n",
        "\n",
        "🔧 Skills: Data cleaning, visualization, linear regression"
      ],
      "metadata": {
        "colab_type": "text"
      }
    },
    {
      "cell_type": "code",
      "execution_count": null,
      "metadata": {
        "id": "imports"
      },
      "outputs": [],
      "source": [
        "# Step 1: Import libraries\n",
        "import pandas as pd\n",
        "import numpy as np\n",
        "import matplotlib.pyplot as plt\n",
        "import seaborn as sns\n",
        "from sklearn.model_selection import train_test_split\n",
        "from sklearn.linear_model import LinearRegression\n",
        "from sklearn.ensemble import RandomForestRegressor\n",
        "from sklearn.metrics import mean_absolute_error, mean_squared_error, r2_score"
      ]
    },
    {
      "cell_type": "markdown",
      "source": [
        "## Step 2: Generate Synthetic Crop Dataset\n",
        "\n",
        "💡 This is **synthetic data** for learning. In real projects, you'd use data from MoA, FAO, or field surveys."
      ],
      "metadata": {
        "colab_type": "text"
      }
    },
    {
      "cell_type": "code",
      "execution_count": null,
      "metadata": {
        "id": "generate_data"
      },
      "outputs": [],
      "source": [
        "# Set random seed for reproducibility\n",
        "np.random.seed(42)\n",
        "\n",
        "# Regions in Ethiopia\n",
        "regions = [\"Amhara\", \"Oromia\", \"SNNP\", \"Tigray\", \"Sidama\"]\n",
        "crops = [\"Teff\", \"Maize\", \"Coffee\"]\n",
        "\n",
        "# Generate 300 synthetic samples\n",
        "n_samples = 300\n",
        "data = {\n",
        "    \"region\": np.random.choice(regions, n_samples),\n",
        "    \"crop\": np.random.choice(crops, n_samples),\n",
        "    \"rainfall_mm\": np.random.normal(800, 150, n_samples),  # mm/year\n",
        "    \"temperature_c\": np.random.normal(22, 3, n_samples),  # °C\n",
        "    \"soil_ph\": np.random.uniform(5.0, 7.5, n_samples),    # pH\n",
        "    \"fertilizer_kg_per_ha\": np.random.uniform(0, 100, n_samples),\n",
        "}\n",
        "\n",
        "# Realistic yield calculation (with noise)\n",
        "yield_per_crop = {\n",
        "    \"Teff\": lambda x: 1000 + 0.8*x['rainfall_mm'] - 20*abs(x['temperature_c'] - 18) + 30*x['fertilizer_kg_per_ha'] + 50*x['soil_ph'],\n",
        "    \"Maize\": lambda x: 2000 + 0.6*x['rainfall_mm'] - 15*abs(x['temperature_c'] - 25) + 25*x['fertilizer_kg_per_ha'] + 40*x['soil_ph'],\n",
        "    \"Coffee\": lambda x: 800 + 0.5*x['rainfall_mm'] - 10*abs(x['temperature_c'] - 20) + 15*x['fertilizer_kg_per_ha'] + 60*x['soil_ph']\n",
        "}\n",
        "\n",
        "yields = []\n",
        "for i in range(n_samples):\n",
        "    row = {\"rainfall_mm\": data['rainfall_mm'][i],\n",
        "           \"temperature_c\": data['temperature_c'][i],\n",
        "           \"soil_ph\": data['soil_ph'][i],\n",
        "           \"fertilizer_kg_per_ha\": data['fertilizer_kg_per_ha'][i]}\n",
        "    base_yield = yield_per_crop[data['crop'][i]](row)\n",
        "    # Add noise\n",
        "    yield_val = max(base_yield + np.random.normal(0, 100), 300)  # Minimum yield\n",
        "    yields.append(round(yield_val, 2))\n",
        "\n",
        "data[\"yield_kg_per_ha\"] = yields\n",
        "\n",
        "# Convert to DataFrame\n",
        "df = pd.DataFrame(data)\n",
        "print(\"First 10 rows of the dataset:\")\n",
        "df.head(10)"
      ]
    },
    {
      "cell_type": "markdown",
      "source": [
        "## Step 3: Explore the Data"
      ],
      "metadata": {
        "colab_type": "text"
      }
    },
    {
      "cell_type": "code",
      "execution_count": null,
      "metadata": {
        "colab": {
          "base_uri": "https://localhost:8080/"
        },
        "id": "info",
        "outputId": "e7b1b5c5-5c8b-4b16-c8e3-5f0e9d6f8b8a"
      },
      "outputs": [],
      "source": [
        "# Basic info\n",
        "print(\"Dataset Shape:\", df.shape)\n",
        "print(\"\\nData Types:\")\n",
        "print(df.dtypes)\n",
        "print(\"\\nMissing Values:\")\n",
        "print(df.isnull().sum())"
      ]
    },
    {
      "cell_type": "code",
      "execution_count": null,
      "metadata": {
        "colab": {
          "base_uri": "https://localhost:8080/",
          "height": 1000
        },
        "id": "plots",
        "outputId": "3c7e8c7e-4f8d-4e8c-aa88-5229e5f109a8"
      },
      "outputs": [],
      "source": [
        "# Distribution of yield by crop\n",
        "plt.figure(figsize=(12, 5))\n",
        "\n",
        "plt.subplot(1, 2, 1)\n",
        "sns.boxplot(data=df, x=\"crop\", y=\"yield_kg_per_ha\")\n",
        "plt.title(\"Crop Yield by Crop Type\")\n",
        "plt.ylabel(\"Yield (kg/ha)\")\n",
        "\n",
        "plt.subplot(1, 2, 2)\n",
        "sns.scatterplot(data=df, x=\"rainfall_mm\", y=\"yield_kg_per_ha\", hue=\"crop\")\n",
        "plt.title(\"Yield vs Rainfall\")\n",
        "plt.xlabel(\"Rainfall (mm)\")\n",
        "plt.ylabel(\"Yield (kg/ha)\")\n",
        "\n",
        "plt.tight_layout()\n",
        "plt.show()"
      ]
    },
    {
      "cell_type": "markdown",
      "source": [
        "## Step 4: Prepare Data for Modeling\n",
        "\n",
        "We need to convert categorical columns (`region`, `crop`) into numbers using **one-hot encoding**."
      ],
      "metadata": {
        "colab_type": "text"
      }
    },
    {
      "cell_type": "code",
      "execution_count": null,
      "metadata": {
        "id": "encode"
      },
      "outputs": [],
      "source": [
        "# One-hot encode categorical variables\n",
        "df_encoded = pd.get_dummies(df, columns=[\"region\", \"crop\"], drop_first=True)\n",
        "\n",
        "# Define features and target\n",
        "X = df_encoded.drop(\"yield_kg_per_ha\", axis=1)\n",
        "y = df_encoded[\"yield_kg_per_ha\"]\n",
        "\n",
        "print(\"Features shape:\", X.shape)\n",
        "print(\"Target shape:\", y.shape)"
      ]
    },
    {
      "cell_type": "markdown",
      "source": [
        "## Step 5: Split into Train and Test Sets"
      ],
      "metadata": {
        "colab_type": "text"
      }
    },
    {
      "cell_type": "code",
      "execution_count": null,
      "metadata": {
        "id": "split"
      },
      "outputs": [],
      "source": [
        "X_train, X_test, y_train, y_test = train_test_split(X, y, test_size=0.2, random_state=42)\n",
        "print(\"Training samples:\", X_train.shape[0])\n",
        "print(\"Testing samples:\", X_test.shape[0])"
      ]
    },
    {
      "cell_type": "markdown",
      "source": [
        "## Step 6: Train a Linear Regression Model"
      ],
      "metadata": {
        "colab_type": "text"
      }
    },
    {
      "cell_type": "code",
      "execution_count": null,
      "metadata": {
        "colab": {
          "base_uri": "https://localhost:8080/"
        },
        "id": "linear_model",
        "outputId": "f99e4b76-3361-481a-f942-59563886e2f0"
      },
      "outputs": [],
      "source": [
        "model_lr = LinearRegression()\n",
        "model_lr.fit(X_train, y_train)\n",
        "\n",
        "# Predict\n",
        "y_pred_lr = model_lr.predict(X_test)\n",
        "\n",
        "# Evaluate\n",
        "mae_lr = mean_absolute_error(y_test, y_pred_lr)\n",
        "rmse_lr = np.sqrt(mean_squared_error(y_test, y_pred_lr))\n",
        "r2_lr = r2_score(y_test, y_pred_lr)\n",
        "\n",
        "print(\"Linear Regression Results:\")\n",
        "print(f\"MAE: {mae_lr:.2f} kg/ha\")\n",
        "print(f\"RMSE: {rmse_lr:.2f} kg/ha\")\n",
        "print(f\"R²: {r2_lr:.4f}\")"
      ]
    },
    {
      "cell_type": "markdown",
      "source": [
        "## Step 7: Try a Random Forest Model (Better Performance)"
      ],
      "metadata": {
        "colab_type": "text"
      }
    },
    {
      "cell_type": "code",
      "execution_count": null,
      "metadata": {
        "colab": {
          "base_uri": "https://localhost:8080/"
        },
        "id": "rf_model",
        "outputId": "9d4e96e0-7874-4854-853b-370245e55887"
      },
      "outputs": [],
      "source": [
        "model_rf = RandomForestRegressor(n_estimators=100, random_state=42)\n",
        "model_rf.fit(X_train, y_train)\n",
        "\n",
        "# Predict\n",
        "y_pred_rf = model_rf.predict(X_test)\n",
        "\n",
        "# Evaluate\n",
        "mae_rf = mean_absolute_error(y_test, y_pred_rf)\n",
        "rmse_rf = np.sqrt(mean_squared_error(y_test, y_pred_rf))\n",
        "r2_rf = r2_score(y_test, y_pred_rf)\n",
        "\n",
        "print(\"Random Forest Results:\")\n",
        "print(f\"MAE: {mae_rf:.2f} kg/ha\")\n",
        "print(f\"RMSE: {rmse_rf:.2f} kg/ha\")\n",
        "print(f\"R²: {r2_rf:.4f}\")"
      ]
    },
    {
      "cell_type": "markdown",
      "source": [
        "## Step 8: Feature Importance (Insight for Farmers)"
      ],
      "metadata": {
        "colab_type": "text"
      }
    },
    {
      "cell_type": "code",
      "execution_count": null,
      "metadata": {
        "colab": {
          "base_uri": "https://localhost:8080/",
          "height": 607
        },
        "id": "feature_importance",
        "outputId": "4b15c673-559c-4887-f4f8-23813008e1e6"
      },
      "outputs": [],
      "source": [
        "importances = model_rf.feature_importances_\n",
        "features = X.columns\n",
        "feat_importance = pd.Series(importances, index=features).sort_values(ascending=False)\n",
        "\n",
        "# Top 10 features\n",
        "plt.figure(figsize=(10, 6))\n",
        "feat_importance.head(10).plot(kind='bar')\n",
        "plt.title(\"Top 10 Features Influencing Crop Yield\")\n",
        "plt.ylabel(\"Importance\")\n",
        "plt.xticks(rotation=45)\n",
        "plt.tight_layout()\n",
        "plt.show()"
      ]
    },
    {
      "cell_type": "markdown",
      "source": [
        "## Step 9: Predict Yield for a New Farm"
      ],
      "metadata": {
        "colab_type": "text"
      }
    },
    {
      "cell_type": "code",
      "execution_count": null,
      "metadata": {
        "colab": {
          "base_uri": "https://localhost:8080/"
        },
        "id": "predict_new",
        "outputId": "9257486e-2076-454d-9572-691860906757"
      },
      "outputs": [],
      "source": [
        "def predict_yield(region, crop, rainfall, temp, soil_ph, fertilizer):\n",
        "    # Create a dataframe with all zeros (to match encoded columns)\n",
        "    sample = pd.DataFrame([0] * len(X.columns), index=X.columns).T\n",
        "    \n",
        "    # Fill known values\n",
        "    sample[\"rainfall_mm\"] = rainfall\n",
        "    sample[\"temperature_c\"] = temp\n",
        "    sample[\"soil_ph\"] = soil_ph\n",
        "    sample[\"fertilizer_kg_per_ha\"] = fertilizer\n",
        "    \n",
        "    # Set one-hot encoded columns\n",
        "    region_col = \"region_\" + region\n",
        "    crop_col = \"crop_\" + crop\n",
        "    \n",
        "    if region_col in sample.columns:\n",
        "        sample[region_col] = 1\n",
        "    if crop_col in sample.columns:\n",
        "        sample[crop_col] = 1\n",
        "    \n",
        "    # Fill NaNs with 0 (for regions/crops not present)\n",
        "    sample = sample.fillna(0)\n",
        "    \n",
        "    # Predict\n",
        "    pred = model_rf.predict(sample)[0]\n",
        "    return round(pred, 2)\n",
        "\n",
        "# Example: Predict Teff yield in Amhara\n",
        "yield_pred = predict_yield(\n",
        "    region=\"Amhara\",\n",
        "    crop=\"Teff\",\n",
        "    rainfall=850,\n",
        "    temp=18,\n",
        "    soil_ph=6.2,\n",
        "    fertilizer=40\n",
        ")\n",
        "\n",
        "print(f\"Predicted Teff Yield: {yield_pred} kg/ha\")"
      ]
    },
    {
      "cell_type": "markdown",
      "source": [
        "## ✅ Next Steps & Challenges\n",
        "\n",
        "🔹 **Add real data** from MoA, FAO, or field surveys\n",
        "🔹 **Include soil type or altitude**\n",
        "🔹 **Predict by region-season** (e.g., Meher vs Belg)\n",
        "🔹 **Build a web dashboard** for farmers\n",
        "🔹 **Contribute your cleaned dataset** to the community repo!\n",
        "\n",
        "📌 Join the [Ethiopian Data Science & AI Community](https://www.linkedin.com/groups/11836061/) to share your results and collaborate!"
      ],
      "metadata": {
        "colab_type": "text"
      }
    }
  ],
  "metadata": {
    "colab": {
      "provenance": []
    },
    "kernelspec": {
      "name": "python3",
      "display_name": "Python 3"
    }
  },
  "nbformat": 4,
  "nbformat_minor": 0

}
